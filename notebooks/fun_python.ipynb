{
 "cells": [
  {
   "cell_type": "markdown",
   "id": "4954fcde-5ddb-4ba5-bca8-1077a33891ab",
   "metadata": {},
   "source": [
    "# Modificación dinamica de un objeto"
   ]
  },
  {
   "cell_type": "code",
   "execution_count": 1,
   "id": "9bb0908e-fcfd-418d-bfb5-02521adbfa99",
   "metadata": {},
   "outputs": [
    {
     "name": "stdout",
     "output_type": "stream",
     "text": [
      "a.x=2 a.y=50 a.z='lol'\n",
      "las variables de a: {'x': 2, 'y': 50, 'z': 'lol'}\n"
     ]
    }
   ],
   "source": [
    "class A:\n",
    "    def __init__(self,n):\n",
    "        self.x = n\n",
    "    \n",
    "a = A(2)\n",
    "a.__setattr__('y',50)\n",
    "a.__dict__['z']='lol'\n",
    "\n",
    "print(f\"{a.x=} {a.y=} {a.z=}\")\n",
    "print(f\"las variables de a: {vars(a)}\")"
   ]
  },
  {
   "cell_type": "code",
   "execution_count": 2,
   "id": "be5ebfb6-4119-4a22-9528-248cac19f4fb",
   "metadata": {},
   "outputs": [
    {
     "name": "stdout",
     "output_type": "stream",
     "text": [
      "Hola a todos! soy Luis\n",
      "las variables de luisito: {'nombre': 'Luis'}\n",
      "luisito tiene el metodo saludar? si\n"
     ]
    }
   ],
   "source": [
    "class Persona:\n",
    "    def __init__(self, nombre):\n",
    "        self.nombre = nombre\n",
    "\n",
    "\n",
    "luisito = Persona(\"Luis\")\n",
    "\n",
    "# oh no! me olvide de que pueda saludar\n",
    "\n",
    "def saludar(self):\n",
    "    return f\"Hola a todos! soy {self.nombre}\"\n",
    "\n",
    "Persona.saludar = saludar\n",
    "\n",
    "print(luisito.saludar())\n",
    "print(f\"las variables de luisito: {vars(luisito)}\")\n",
    "print(f\"luisito tiene el metodo saludar? {'si' if hasattr(luisito,'saludar') else 'no'}\")\n",
    "\n"
   ]
  },
  {
   "cell_type": "markdown",
   "id": "11dde01e-64ff-46ad-ba7b-e67b7b0d6380",
   "metadata": {},
   "source": [
    "# Agregar comportamiendo a tipos built-in"
   ]
  },
  {
   "cell_type": "code",
   "execution_count": 3,
   "id": "4e5e75cd-81dd-42b5-a598-8f0c294b33fe",
   "metadata": {},
   "outputs": [
    {
     "name": "stdout",
     "output_type": "stream",
     "text": [
      "5\n",
      "Hola a todos! soy el entero 5\n"
     ]
    }
   ],
   "source": [
    "class Entero(int):\n",
    "    def __new__(cls, valor, *args, **kwargs):\n",
    "        instancia = super().__new__(cls, valor)\n",
    "        instancia.mensaje = f\"Hola a todos! soy el entero {valor}\"\n",
    "        return instancia\n",
    "\n",
    "num = Entero(5)\n",
    "print(num)\n",
    "print(num.mensaje)\n"
   ]
  },
  {
   "cell_type": "markdown",
   "id": "d125c3b4-5b5c-43ad-b824-768062ad4fbb",
   "metadata": {},
   "source": [
    "# ¡Cuidado con mutables como default argument!\n",
    "### Hoy todos los IDEs decente alertan sobre esto y no es una sorpresa para los programadores de python pero si lo es para los nuevos en el lenguaje."
   ]
  },
  {
   "cell_type": "code",
   "execution_count": 4,
   "id": "8900a70c-44aa-4f1c-a71c-966e0e9ae1f6",
   "metadata": {},
   "outputs": [
    {
     "name": "stdout",
     "output_type": "stream",
     "text": [
      "[0, 1]\n",
      "[0, 1, 0, 1, 4, 0, 1, 4, 9]\n",
      "[0, 1, 0, 1, 4, 0, 1, 4, 9]\n",
      "[0, 1, 0, 1, 4, 0, 1, 4, 9]\n"
     ]
    }
   ],
   "source": [
    "def f(a, L=[]):\n",
    "    i = 0\n",
    "    while i <= a:\n",
    "        L.append(i**2)\n",
    "        i += 1\n",
    "    return L\n",
    "\n",
    "uno = f(1)\n",
    "print(uno)\n",
    "dos = f(2)\n",
    "tres = f(3)\n",
    "print(uno); print(dos); print(tres) #si, python soporta ; para separar sentencias. Mala practica\n"
   ]
  },
  {
   "cell_type": "markdown",
   "id": "fde1421c-1da1-4a84-aba4-1f0a122fc601",
   "metadata": {},
   "source": [
    "# Redondeo\n",
    "Python usa para redondear el \"metodo del banquero\" o \"redondeo a par\". Es distinto a muchos lenguajes como C (aunque similar a Pascal, Lisp)"
   ]
  },
  {
   "cell_type": "code",
   "execution_count": 5,
   "id": "dee7ab31-87bf-46f1-ac04-025752e61829",
   "metadata": {},
   "outputs": [
    {
     "name": "stdout",
     "output_type": "stream",
     "text": [
      "-2.5 redondeado es: -2\n",
      "-1.5 redondeado es: -2\n",
      "-0.5 redondeado es: 0\n",
      "0.5 redondeado es: 0\n",
      "1.5 redondeado es: 2\n",
      "2.5 redondeado es: 2\n",
      "3.5 redondeado es: 4\n",
      "4.5 redondeado es: 4\n",
      "5.5 redondeado es: 6\n"
     ]
    }
   ],
   "source": [
    "numeros = [-2.5, -1.5, -.5, .5, 1.5, 2.5, 3.5, 4.5, 5.5]\n",
    "for numero in numeros:\n",
    "    print(f\"{numero} redondeado es: {round(numero)}\")\n"
   ]
  },
  {
   "cell_type": "markdown",
   "id": "c5eab463-111c-4b53-8840-be144515be50",
   "metadata": {},
   "source": [
    "Podemos analizar como es en C usando libm disponible en linux para evitar compilar un ejemplo"
   ]
  },
  {
   "cell_type": "code",
   "execution_count": 6,
   "id": "476286cf-c9fc-4790-8ab9-faa9d81f6dce",
   "metadata": {},
   "outputs": [
    {
     "name": "stdout",
     "output_type": "stream",
     "text": [
      "-2.5 redondeado es: -3.0\n",
      "-1.5 redondeado es: -2.0\n",
      "-0.5 redondeado es: -1.0\n",
      "0.5 redondeado es: 1.0\n",
      "1.5 redondeado es: 2.0\n",
      "2.5 redondeado es: 3.0\n",
      "3.5 redondeado es: 4.0\n",
      "4.5 redondeado es: 5.0\n",
      "5.5 redondeado es: 6.0\n"
     ]
    }
   ],
   "source": [
    "import ctypes\n",
    "from ctypes.util import find_library\n",
    "\n",
    "libm = ctypes.CDLL(find_library('m'))\n",
    "libm.round.argtypes = [ctypes.c_double]\n",
    "libm.round.restype = ctypes.c_double\n",
    "\n",
    "for numero in numeros:\n",
    "    print(f\"{numero} redondeado es: {libm.round(float(numero))}\")\n"
   ]
  },
  {
   "cell_type": "markdown",
   "id": "d76203b1-b98b-4a36-9865-112a622b76ec",
   "metadata": {},
   "source": [
    "# Operador %\n",
    "El operador de módulo (%) en C y Python difiere en su manejo de números negativos: en C, el residuo hereda el signo del dividendo (basado en truncado hacia cero), lo que puede dar resultados negativos, mientras que en Python sigue el signo del divisor (con división floor), asegurando un residuo no negativo cuando el divisor es positivo. Esta sutil discrepancia es crucial al portar código o simular comportamientos entre lenguajes\n"
   ]
  },
  {
   "cell_type": "code",
   "execution_count": 7,
   "id": "ea588875-6697-42d7-a765-26b39180cd98",
   "metadata": {},
   "outputs": [
    {
     "name": "stdout",
     "output_type": "stream",
     "text": [
      "[0, 1, 2, 3, 4, 5, 6, 7, 8, 9, 0, 1, 2, 3, 4, 5, 6, 7, 8, 9, 0]\n"
     ]
    }
   ],
   "source": [
    "# en python tendriamos este comportamiento\n",
    "print([x % 10 for x in range(-10,11)])"
   ]
  },
  {
   "cell_type": "code",
   "execution_count": 8,
   "id": "3af9b027-82dd-49a0-9b63-41a5530ba5c1",
   "metadata": {},
   "outputs": [
    {
     "name": "stdout",
     "output_type": "stream",
     "text": [
      "[0 ,-9 ,-8 ,-7 ,-6 ,-5 ,-4 ,-3 ,-2 ,-1 ,0 ,1 ,2 ,3 ,4 ,5 ,6 ,7 ,8 ,9 ,0]\n"
     ]
    }
   ],
   "source": [
    "# en C tenemos este comportamiento\n",
    "# nota: este ejemplo de archivo temporales para crear un archivo con el snipet de C y compilarlo me lo sugirió Grok.\n",
    "# me parecio ingenioso aunque sea sobre ingenieria. \n",
    "# requiere gcc \n",
    "\n",
    "\n",
    "import subprocess\n",
    "import tempfile\n",
    "import os\n",
    "\n",
    "# se escapa '\\'\n",
    "c_code = '''\n",
    "#include <stdio.h>\n",
    "\n",
    "int main(void) {\n",
    "  int x;\n",
    "\n",
    "  printf(\"[\");\n",
    "\n",
    "  for (x = -10; x < 11; x++) {\n",
    "    printf(\"%d\", (x % 10));\n",
    "    x != 10 ? printf(\" ,\") : printf(\"]\\ \\n\");\n",
    "  };\n",
    "\n",
    "  return 0;\n",
    "};\n",
    "'''\n",
    "\n",
    "with tempfile.NamedTemporaryFile(mode='w', suffix='.c', delete=False) as f:\n",
    "    f.write(c_code)\n",
    "    c_filename = f.name\n",
    "\n",
    "try:\n",
    "    compile_result = subprocess.run(['gcc', c_filename, '-o', 'modulo'], \n",
    "                                    capture_output=True, text=True)\n",
    "    if compile_result.returncode != 0:\n",
    "        print(\"Error de compilación:\", compile_result.stderr)\n",
    "    else:\n",
    "        run_result = subprocess.run(['./modulo'], capture_output=True, text=True)\n",
    "        if run_result.returncode == 0:\n",
    "            print(str(run_result.stdout))\n",
    "        else:\n",
    "            print(\"Error de ejecución:\", run_result.stderr)\n",
    "finally:\n",
    "    os.unlink(c_filename)\n",
    "    if os.path.exists('modulo'):\n",
    "        os.unlink('modulo')\n"
   ]
  },
  {
   "cell_type": "markdown",
   "id": "2d8e47c6-98df-457b-84c5-b74390699f1e",
   "metadata": {},
   "source": [
    "Se puede emular el comportamiento de **%** en C con este codigo"
   ]
  },
  {
   "cell_type": "code",
   "execution_count": 9,
   "id": "b66ad969-4af4-4ac2-92c0-f5a4ab123764",
   "metadata": {},
   "outputs": [
    {
     "name": "stdout",
     "output_type": "stream",
     "text": [
      "[0, -9, -8, -7, -6, -5, -4, -3, -2, -1, 0, 1, 2, 3, 4, 5, 6, 7, 8, 9, 0]\n"
     ]
    }
   ],
   "source": [
    "from math import trunc\n",
    "\n",
    "def c_rem(dividend: int | float, divisor: int) -> int | float:\n",
    "    \"\"\"Return remainder like C: r = a - n* trunc(a/n)\"\"\"\n",
    "    if divisor == 0:\n",
    "        raise ValueError(\"math domain error\")\n",
    "    return dividend - divisor * trunc(dividend / divisor)\n",
    "\n",
    "print([c_rem(x, 10) for x in range(-10,11)])"
   ]
  },
  {
   "cell_type": "markdown",
   "id": "35042fd3-f7ef-4582-96e0-7bc04f72167c",
   "metadata": {},
   "source": [
    "# XOR para buscar un item faltante\n",
    "*Se te da una array A de n - 1 números enteros que están en el rango entre 1 y n. Todos los números aparecen exactamente una vez, excepto uno, que falta. Encuentra este número que falta.*"
   ]
  },
  {
   "cell_type": "code",
   "execution_count": 10,
   "id": "0d7d5c52-3212-41e2-8ed1-541f43e6dd1c",
   "metadata": {},
   "outputs": [
    {
     "name": "stdout",
     "output_type": "stream",
     "text": [
      "el elemento de que falta es: 1434\n",
      "el elemento de que falta usando conjuntos es: {1434}\n"
     ]
    }
   ],
   "source": [
    "from random import randint\n",
    "from functools import reduce\n",
    "from operator import xor\n",
    "\n",
    "# Tenemos una lista grande de numeros consecutivos\n",
    "lista_grande = list(range(1,1500))\n",
    "\n",
    "# Tenemos una lista A a la que le falta un elemento\n",
    "\n",
    "A = lista_grande.copy()\n",
    "A.remove(randint(1, 1499))\n",
    "\n",
    "print(f\"el elemento de que falta es: {reduce(xor,lista_grande) ^ reduce(xor, A)}\")\n",
    "\n",
    "# resultado que podemos confirmar haciendo diferencia de conjuntos\n",
    "print(f\"el elemento de que falta usando conjuntos es: {set(lista_grande) - set(A)}\")\n"
   ]
  },
  {
   "cell_type": "markdown",
   "id": "18839a36-0a0f-49b0-8ad8-b3a632de6983",
   "metadata": {},
   "source": [
    "# ¡Cuidado con la notacion de tuplas implicita!"
   ]
  },
  {
   "cell_type": "code",
   "execution_count": 11,
   "id": "8d9f798b-0412-4b1d-8d83-a95ffa8b41d2",
   "metadata": {},
   "outputs": [
    {
     "name": "stdout",
     "output_type": "stream",
     "text": [
      "(0, 5)\n"
     ]
    }
   ],
   "source": [
    "resultado = 4 * 0,5\n",
    "print(resultado)"
   ]
  }
 ],
 "metadata": {
  "kernelspec": {
   "display_name": "Python 3 (ipykernel)",
   "language": "python",
   "name": "python3"
  },
  "language_info": {
   "codemirror_mode": {
    "name": "ipython",
    "version": 3
   },
   "file_extension": ".py",
   "mimetype": "text/x-python",
   "name": "python",
   "nbconvert_exporter": "python",
   "pygments_lexer": "ipython3",
   "version": "3.10.12"
  }
 },
 "nbformat": 4,
 "nbformat_minor": 5
}
