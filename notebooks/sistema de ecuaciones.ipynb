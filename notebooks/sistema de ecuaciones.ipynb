{
 "cells": [
  {
   "cell_type": "markdown",
   "id": "0c7c829b-e3f0-4db5-8cc6-252a4785fd67",
   "metadata": {},
   "source": [
    "Madre e hija tienen 50 años en **total**. La madre es **20 años mayor** que la hija. ¿Qué edad tiene la hija?"
   ]
  },
  {
   "cell_type": "code",
   "execution_count": 1,
   "id": "7015f1de-01d0-4455-ae2b-a827bd502400",
   "metadata": {},
   "outputs": [],
   "source": [
    "from sympy import symbols, Eq, solve"
   ]
  },
  {
   "cell_type": "code",
   "execution_count": 2,
   "id": "8a0e71b2-c16c-4771-856b-ecb2b83d58db",
   "metadata": {},
   "outputs": [],
   "source": [
    "mama = symbols('👩')\n",
    "hija = symbols('👧')"
   ]
  },
  {
   "cell_type": "code",
   "execution_count": 3,
   "id": "0a23500f-e885-415c-91c5-828fe704240a",
   "metadata": {},
   "outputs": [],
   "source": [
    "ecuacion1 = Eq(mama + hija, 50)\n",
    "ecuacion2 = Eq(mama, hija + 20)"
   ]
  },
  {
   "cell_type": "code",
   "execution_count": 4,
   "id": "d00a4652-7018-45d0-b76c-f5a252fa2e33",
   "metadata": {},
   "outputs": [
    {
     "data": {
      "text/plain": [
       "{👧: 15, 👩: 35}"
      ]
     },
     "execution_count": 4,
     "metadata": {},
     "output_type": "execute_result"
    }
   ],
   "source": [
    "solve([ecuacion1, ecuacion2], [mama, hija])"
   ]
  },
  {
   "cell_type": "code",
   "execution_count": null,
   "id": "cb2f391b-11e3-49d7-98b9-594fd3ecf532",
   "metadata": {},
   "outputs": [],
   "source": []
  }
 ],
 "metadata": {
  "kernelspec": {
   "display_name": "Python 3 (ipykernel)",
   "language": "python",
   "name": "python3"
  },
  "language_info": {
   "codemirror_mode": {
    "name": "ipython",
    "version": 3
   },
   "file_extension": ".py",
   "mimetype": "text/x-python",
   "name": "python",
   "nbconvert_exporter": "python",
   "pygments_lexer": "ipython3",
   "version": "3.10.12"
  }
 },
 "nbformat": 4,
 "nbformat_minor": 5
}
