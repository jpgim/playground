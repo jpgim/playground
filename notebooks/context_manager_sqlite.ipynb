{
 "cells": [
  {
   "cell_type": "markdown",
   "id": "cc93231e-50c4-4331-83bb-8e67fd10774e",
   "metadata": {
    "editable": true,
    "slideshow": {
     "slide_type": ""
    },
    "tags": []
   },
   "source": [
    "En python, el context manager de sqlite **no** se comporta igual que otros context manager.\n"
   ]
  },
  {
   "cell_type": "code",
   "execution_count": 1,
   "id": "c5fe5568-a9a2-44c3-b8ff-8da51840f208",
   "metadata": {
    "editable": true,
    "slideshow": {
     "slide_type": ""
    },
    "tags": []
   },
   "outputs": [],
   "source": [
    "# Ejemplo para abrir archivos\n",
    "with open(\"file.txt\", \"w\") as archivo:\n",
    "    archivo.write(\"Se graba esta linea al archivo\\n\")\n"
   ]
  },
  {
   "cell_type": "markdown",
   "id": "71e7bf63-f8fe-475b-9830-e430f4302435",
   "metadata": {
    "editable": true,
    "slideshow": {
     "slide_type": ""
    },
    "tags": []
   },
   "source": [
    "El context manager de open() se encarga de cerrar el archivo. Si uno intenta acceder al archivo despues del bloque *with* se tiene una excepción \"I/O operation on closed file\""
   ]
  },
  {
   "cell_type": "code",
   "execution_count": 2,
   "id": "51358e10-bb2e-4fcc-84f0-a1ee4147add6",
   "metadata": {
    "editable": true,
    "scrolled": true,
    "slideshow": {
     "slide_type": ""
    },
    "tags": [
     "raises-exception"
    ]
   },
   "outputs": [
    {
     "ename": "ValueError",
     "evalue": "I/O operation on closed file.",
     "output_type": "error",
     "traceback": [
      "\u001b[0;31m---------------------------------------------------------------------------\u001b[0m",
      "\u001b[0;31mValueError\u001b[0m                                Traceback (most recent call last)",
      "Cell \u001b[0;32mIn[2], line 1\u001b[0m\n\u001b[0;32m----> 1\u001b[0m \u001b[43marchivo\u001b[49m\u001b[38;5;241;43m.\u001b[39;49m\u001b[43mwrite\u001b[49m\u001b[43m(\u001b[49m\u001b[38;5;124;43m\"\u001b[39;49m\u001b[38;5;124;43mgrabamos otra linea al archivo\u001b[39;49m\u001b[38;5;130;43;01m\\n\u001b[39;49;00m\u001b[38;5;124;43m\"\u001b[39;49m\u001b[43m)\u001b[49m\n",
      "\u001b[0;31mValueError\u001b[0m: I/O operation on closed file."
     ]
    }
   ],
   "source": [
    "archivo.write(\"grabamos otra linea al archivo\\n\")"
   ]
  },
  {
   "cell_type": "markdown",
   "id": "162935cf-7ea7-47e9-a939-e1765819da1f",
   "metadata": {
    "editable": true,
    "slideshow": {
     "slide_type": ""
    },
    "tags": []
   },
   "source": [
    "Ahora bien, si usamos el context manager de sqlite para administrar una conexion tendremos el siguiente comportamiento\n",
    "\n",
    "*nota usamos una base de datos en memoria para los ejemplos*"
   ]
  },
  {
   "cell_type": "code",
   "execution_count": 3,
   "id": "e757361b-f9ed-4ffb-a212-660c34a20e75",
   "metadata": {
    "editable": true,
    "slideshow": {
     "slide_type": ""
    },
    "tags": []
   },
   "outputs": [
    {
     "name": "stdout",
     "output_type": "stream",
     "text": [
      "[(1, 'Juan', 'Gonzalez')]\n"
     ]
    }
   ],
   "source": [
    "import sqlite3\n",
    "with sqlite3.connect(\":memory:\") as conn:\n",
    "    conn.execute(\"CREATE TABLE persona(id INTEGER PRIMARY KEY, nombre TEXT NOT NULL, apellido TEXT NOT NULL)\")\n",
    "    conn.execute(\"INSERT INTO persona VALUES (1, 'Juan', 'Gonzalez')\")\n",
    "    rows = conn.execute(\"SELECT * FROM persona\").fetchall()\n",
    "\n",
    "print(rows)\n"
   ]
  },
  {
   "cell_type": "markdown",
   "id": "04896cdb-2e9f-4db2-b124-272df63c8646",
   "metadata": {
    "editable": true,
    "slideshow": {
     "slide_type": ""
    },
    "tags": []
   },
   "source": [
    "En teoria ahora yo no podria seguir insertando en la tabla ¿cierto?"
   ]
  },
  {
   "cell_type": "code",
   "execution_count": 4,
   "id": "3616484e-d7a8-4648-b63c-4fa79c6b3567",
   "metadata": {
    "editable": true,
    "slideshow": {
     "slide_type": ""
    },
    "tags": []
   },
   "outputs": [
    {
     "name": "stdout",
     "output_type": "stream",
     "text": [
      "[(1, 'Juan', 'Gonzalez'), (2, 'Pedro', 'Gutierrez')]\n"
     ]
    }
   ],
   "source": [
    "conn.execute(\"INSERT INTO persona VALUES (2, 'Pedro', 'Gutierrez')\")\n",
    "rows = conn.execute(\"SELECT * FROM persona\").fetchall()\n",
    "print(rows)"
   ]
  },
  {
   "cell_type": "markdown",
   "id": "6bbd8a73-b72b-434e-837a-805f40b38b07",
   "metadata": {
    "editable": true,
    "slideshow": {
     "slide_type": ""
    },
    "tags": []
   },
   "source": [
    "¿Qué paso aquí? Resulta que el context manager es para **gestionar transacciones**, no conexiones. \n",
    "\n",
    "De los docs:\n",
    "\"*A Connection object can be used as a context manager that automatically commits or rolls back open transactions when leaving the body of the context manager. If the body of the with statement finishes without exceptions, the transaction is committed. If this commit fails, or if the body of the with statement raises an uncaught exception, the transaction is rolled back*\"\n",
    "https://docs.python.org/3/library/sqlite3.html#how-to-use-the-connection-context-manager"
   ]
  },
  {
   "cell_type": "code",
   "execution_count": 5,
   "id": "6f9e210d-a791-433d-8990-db80c61bc53a",
   "metadata": {
    "editable": true,
    "slideshow": {
     "slide_type": ""
    },
    "tags": []
   },
   "outputs": [],
   "source": [
    "# ok cerremos la conexión\n",
    "conn.close()"
   ]
  },
  {
   "cell_type": "code",
   "execution_count": 6,
   "id": "e388dfce-1fda-4256-9244-3db6109ed64e",
   "metadata": {
    "editable": true,
    "slideshow": {
     "slide_type": ""
    },
    "tags": [
     "raises-exception"
    ]
   },
   "outputs": [
    {
     "ename": "ProgrammingError",
     "evalue": "Cannot operate on a closed database.",
     "output_type": "error",
     "traceback": [
      "\u001b[0;31m---------------------------------------------------------------------------\u001b[0m",
      "\u001b[0;31mProgrammingError\u001b[0m                          Traceback (most recent call last)",
      "Cell \u001b[0;32mIn[6], line 2\u001b[0m\n\u001b[1;32m      1\u001b[0m \u001b[38;5;66;03m# ahora si, error\u001b[39;00m\n\u001b[0;32m----> 2\u001b[0m \u001b[43mconn\u001b[49m\u001b[38;5;241;43m.\u001b[39;49m\u001b[43mexecute\u001b[49m\u001b[43m(\u001b[49m\u001b[38;5;124;43m\"\u001b[39;49m\u001b[38;5;124;43mINSERT INTO persona VALUES (3, \u001b[39;49m\u001b[38;5;124;43m'\u001b[39;49m\u001b[38;5;124;43mMaria\u001b[39;49m\u001b[38;5;124;43m'\u001b[39;49m\u001b[38;5;124;43m, \u001b[39;49m\u001b[38;5;124;43m'\u001b[39;49m\u001b[38;5;124;43mGonzalez\u001b[39;49m\u001b[38;5;124;43m'\u001b[39;49m\u001b[38;5;124;43m)\u001b[39;49m\u001b[38;5;124;43m\"\u001b[39;49m\u001b[43m)\u001b[49m\n",
      "\u001b[0;31mProgrammingError\u001b[0m: Cannot operate on a closed database."
     ]
    }
   ],
   "source": [
    "# ahora si, error\n",
    "conn.execute(\"INSERT INTO persona VALUES (3, 'Maria', 'Gonzalez')\")"
   ]
  },
  {
   "cell_type": "markdown",
   "id": "521c1e3b-92db-4607-916a-90558f82bf62",
   "metadata": {
    "editable": true,
    "slideshow": {
     "slide_type": ""
    },
    "tags": []
   },
   "source": [
    "Entonces, ¿cuales son las alternativas?\n",
    "\n",
    "1) usar context manager para gestionar transacciones como lo indican los docs (y los ejemplos)\n",
    "2) usar closing de contextlib\n",
    "\n"
   ]
  },
  {
   "cell_type": "code",
   "execution_count": 7,
   "id": "54385986-d709-4a91-87e2-178bf8ce7045",
   "metadata": {
    "editable": true,
    "slideshow": {
     "slide_type": ""
    },
    "tags": [
     "raises-exception"
    ]
   },
   "outputs": [
    {
     "name": "stdout",
     "output_type": "stream",
     "text": [
      "[(1, 'Juan', 'Gonzalez'), (2, 'Pedro', 'Gutierrez')]\n"
     ]
    },
    {
     "ename": "IntegrityError",
     "evalue": "UNIQUE constraint failed: persona.id",
     "output_type": "error",
     "traceback": [
      "\u001b[0;31m---------------------------------------------------------------------------\u001b[0m",
      "\u001b[0;31mIntegrityError\u001b[0m                            Traceback (most recent call last)",
      "Cell \u001b[0;32mIn[7], line 15\u001b[0m\n\u001b[1;32m     13\u001b[0m \u001b[38;5;28;01mwith\u001b[39;00m conn2:\n\u001b[1;32m     14\u001b[0m     conn2\u001b[38;5;241m.\u001b[39mexecute(\u001b[38;5;124m\"\u001b[39m\u001b[38;5;124mINSERT INTO persona VALUES (3, \u001b[39m\u001b[38;5;124m'\u001b[39m\u001b[38;5;124mMaria\u001b[39m\u001b[38;5;124m'\u001b[39m\u001b[38;5;124m, \u001b[39m\u001b[38;5;124m'\u001b[39m\u001b[38;5;124mGonzalez\u001b[39m\u001b[38;5;124m'\u001b[39m\u001b[38;5;124m)\u001b[39m\u001b[38;5;124m\"\u001b[39m)\n\u001b[0;32m---> 15\u001b[0m     \u001b[43mconn2\u001b[49m\u001b[38;5;241;43m.\u001b[39;49m\u001b[43mexecute\u001b[49m\u001b[43m(\u001b[49m\u001b[38;5;124;43m\"\u001b[39;49m\u001b[38;5;124;43mINSERT INTO persona VALUES (1, \u001b[39;49m\u001b[38;5;124;43m'\u001b[39;49m\u001b[38;5;124;43mCarlos\u001b[39;49m\u001b[38;5;124;43m'\u001b[39;49m\u001b[38;5;124;43m, \u001b[39;49m\u001b[38;5;124;43m'\u001b[39;49m\u001b[38;5;124;43mRamirez\u001b[39;49m\u001b[38;5;124;43m'\u001b[39;49m\u001b[38;5;124;43m)\u001b[39;49m\u001b[38;5;124;43m\"\u001b[39;49m\u001b[43m)\u001b[49m\n\u001b[1;32m     16\u001b[0m     \u001b[38;5;66;03m# violacion de clave primaria, conn2.rollback()\u001b[39;00m\n\u001b[1;32m     17\u001b[0m     \u001b[38;5;66;03m# la fila (3, 'Maria', 'Gonzalez') no se inserta\u001b[39;00m\n",
      "\u001b[0;31mIntegrityError\u001b[0m: UNIQUE constraint failed: persona.id"
     ]
    }
   ],
   "source": [
    "# alternativa 1)\n",
    "\n",
    "conn2 = sqlite3.connect(\":memory:\") #el context manager se encargará de commit o rollback\n",
    "with conn2:\n",
    "    conn2.execute(\"CREATE TABLE persona(id INTEGER PRIMARY KEY, nombre TEXT NOT NULL, apellido TEXT NOT NULL)\")\n",
    "    conn2.execute(\"INSERT INTO persona VALUES (1, 'Juan', 'Gonzalez')\")\n",
    "    conn2.execute(\"INSERT INTO persona VALUES (2, 'Pedro', 'Gutierrez')\")\n",
    "    rows = conn2.execute(\"SELECT * FROM persona\").fetchall()\n",
    "    # sin errores, el context manager hace conn2.commit()\n",
    "\n",
    "print(rows)\n",
    "\n",
    "with conn2:\n",
    "    conn2.execute(\"INSERT INTO persona VALUES (3, 'Maria', 'Gonzalez')\")\n",
    "    conn2.execute(\"INSERT INTO persona VALUES (1, 'Carlos', 'Ramirez')\")\n",
    "    # violacion de clave primaria, conn2.rollback()\n",
    "    # la fila (3, 'Maria', 'Gonzalez') no se inserta\n",
    "\n"
   ]
  },
  {
   "cell_type": "code",
   "execution_count": 8,
   "id": "81efee1f-4e81-4e1c-8946-13c731dcf691",
   "metadata": {
    "editable": true,
    "slideshow": {
     "slide_type": ""
    },
    "tags": []
   },
   "outputs": [
    {
     "name": "stdout",
     "output_type": "stream",
     "text": [
      "[(1, 'Juan', 'Gonzalez'), (2, 'Pedro', 'Gutierrez')]\n"
     ]
    }
   ],
   "source": [
    "# alternativa 1) continuacion\n",
    "\n",
    "with conn2:\n",
    "    rows = conn2.execute(\"SELECT * FROM persona\").fetchall()\n",
    "print(rows)\n",
    "\n",
    "# cerramos\n",
    "conn2.close()"
   ]
  },
  {
   "cell_type": "code",
   "execution_count": 9,
   "id": "5f874f40-5111-4b46-a390-4b455fa4fcad",
   "metadata": {
    "editable": true,
    "slideshow": {
     "slide_type": ""
    },
    "tags": []
   },
   "outputs": [
    {
     "name": "stdout",
     "output_type": "stream",
     "text": [
      "[(1, 'Juan', 'Gonzalez')]\n",
      "la conexion esta cerrada: Cannot operate on a closed database.\n"
     ]
    }
   ],
   "source": [
    "# alternativa 2: solo nos interesa abrir una conexion, hacer operaciones y que se cierre al finalizar\n",
    "from contextlib import closing\n",
    "\n",
    "with closing(sqlite3.connect(\":memory:\")) as conn3:\n",
    "    conn3.execute(\"CREATE TABLE persona(id INTEGER PRIMARY KEY, nombre TEXT NOT NULL, apellido TEXT NOT NULL)\")\n",
    "    conn3.execute(\"INSERT INTO persona VALUES (1, 'Juan', 'Gonzalez')\")\n",
    "    rows = conn3.execute(\"SELECT * FROM persona\").fetchall()\n",
    "\n",
    "print(rows)\n",
    "\n",
    "# confirmamos que esta cerrada la conexión\n",
    "try:\n",
    "    conn3.execute(\"SELECT 1\")\n",
    "except sqlite3.ProgrammingError as exp:\n",
    "    print(f\"la conexion esta cerrada: {str(exp)}\")"
   ]
  }
 ],
 "metadata": {
  "kernelspec": {
   "display_name": "Python 3 (ipykernel)",
   "language": "python",
   "name": "python3"
  },
  "language_info": {
   "codemirror_mode": {
    "name": "ipython",
    "version": 3
   },
   "file_extension": ".py",
   "mimetype": "text/x-python",
   "name": "python",
   "nbconvert_exporter": "python",
   "pygments_lexer": "ipython3",
   "version": "3.10.12"
  }
 },
 "nbformat": 4,
 "nbformat_minor": 5
}
