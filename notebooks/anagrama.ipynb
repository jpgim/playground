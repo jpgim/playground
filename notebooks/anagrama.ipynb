{
 "cells": [
  {
   "cell_type": "markdown",
   "id": "d6963734-718d-4be9-a0bb-152e7f31d5fa",
   "metadata": {},
   "source": [
    "Un anagrama, es una palabra o frase que resulta de la reordenación de las letras de otra.\n",
    "Por ejemplo **roma** es anagrama de **mora** o **entrelazar** y **relanzarte**"
   ]
  },
  {
   "cell_type": "markdown",
   "id": "a244f389-d0d1-41d2-9c93-bb615a50ab67",
   "metadata": {},
   "source": [
    "Por otro lado, una implicancia del **Teorema fundamental de la aritmética**, cualquier número entero **n** mayor que **1** puede escribirse de **manera única**, salvo el orden, como un producto de números primos.\n",
    "\n",
    "Ejemplo: 12 se puede escribir como $$2 \\times 2 \\times 3$$  o bien $$2^2 \\times 3$$\n"
   ]
  },
  {
   "cell_type": "markdown",
   "id": "c2ac8f09-864e-4bdf-ad22-8d3988e79b78",
   "metadata": {},
   "source": [
    "Se pueden vincular ambos conceptos y llegar a una conclusion interesante:\n",
    "Si asociamos cada letra del abecedario a un numero primo mayor que 1, podremos determinar si una palabra es anagrama de otra si tienen el mismo numero obtenido como resultado de la multiplicación de los valores asociados a las letras que lo componen"
   ]
  },
  {
   "cell_type": "markdown",
   "id": "7f26b6b8-789a-4b48-953e-fd64fbfd5c1a",
   "metadata": {},
   "source": [
    "Es decir, si hacemos a->2, b->3, c->5, d->7, e->11 ...\n",
    "\n",
    "y para cada palabra multiplicamos esos valores:\n",
    "\n",
    "roma: $61 \\times 47 \\times 41 \\times 2 = 235\\,094$\n",
    "\n",
    "mora: $41 \\times 47 \\times 61 \\times 2 = 235\\,094$"
   ]
  },
  {
   "cell_type": "markdown",
   "id": "a03f7397-b101-4cc7-bade-a063c0f7e652",
   "metadata": {},
   "source": [
    "Para palabras cortas es trivial, pero para palabras un poco más largas podemos hacer uso de programación"
   ]
  },
  {
   "cell_type": "code",
   "execution_count": 1,
   "id": "f2b7dc10-571c-4029-b0b8-40061be56894",
   "metadata": {},
   "outputs": [],
   "source": [
    "from math import prod\n",
    "from operator import itemgetter"
   ]
  },
  {
   "cell_type": "code",
   "execution_count": 2,
   "id": "447b8b89-fdfa-49d8-9cfe-93a60f8cf336",
   "metadata": {},
   "outputs": [],
   "source": [
    "letra_a_primo =  {'a': 2, 'b': 3, 'c': 5, 'd': 7, 'e': 11, 'f': 13, 'g': 17, 'h': 19, 'i': 23, 'j': 29, 'k': 31, 'l': 37, 'm': 41, 'n': 43, 'o': 47, 'p': 53, 'q': 59, 'r': 61, 's': 67, 't': 71, 'u': 73, 'v': 79, 'w': 83, 'x': 89, 'y': 97, 'z': 101}"
   ]
  },
  {
   "cell_type": "code",
   "execution_count": 3,
   "id": "477f8b7e-6a77-42be-a4e6-36c2b548a3bc",
   "metadata": {},
   "outputs": [],
   "source": [
    "palabra1 = \"entrelazar\"\n",
    "palabra2 = \"relanzarte\"\n",
    "producto_palabra1 = prod(itemgetter(*palabra1)(letra_a_primo))\n",
    "producto_palabra2 = prod(itemgetter(*palabra2)(letra_a_primo))\n",
    "                        "
   ]
  },
  {
   "cell_type": "code",
   "execution_count": 4,
   "id": "99db03e4-b675-4030-83ea-56f6386ed992",
   "metadata": {},
   "outputs": [
    {
     "name": "stdout",
     "output_type": "stream",
     "text": [
      "True\n"
     ]
    }
   ],
   "source": [
    "print(producto_palabra1 == producto_palabra2)\n"
   ]
  }
 ],
 "metadata": {
  "kernelspec": {
   "display_name": "Python 3 (ipykernel)",
   "language": "python",
   "name": "python3"
  },
  "language_info": {
   "codemirror_mode": {
    "name": "ipython",
    "version": 3
   },
   "file_extension": ".py",
   "mimetype": "text/x-python",
   "name": "python",
   "nbconvert_exporter": "python",
   "pygments_lexer": "ipython3",
   "version": "3.10.12"
  }
 },
 "nbformat": 4,
 "nbformat_minor": 5
}
